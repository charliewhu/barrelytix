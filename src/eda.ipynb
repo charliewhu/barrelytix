{
 "cells": [
  {
   "cell_type": "code",
   "execution_count": 1,
   "metadata": {},
   "outputs": [],
   "source": [
    "import duckdb"
   ]
  },
  {
   "cell_type": "code",
   "execution_count": 3,
   "metadata": {},
   "outputs": [],
   "source": [
    "conn = duckdb.connect('../black.duckdb', read_only=True)"
   ]
  },
  {
   "cell_type": "code",
   "execution_count": 12,
   "metadata": {},
   "outputs": [
    {
     "name": "stdout",
     "output_type": "stream",
     "text": [
      "┌────────────┬─────────┬───────────┬─────────┬──────────────┬─────────┬───────────────┬──────────┬────────────────────────────────────────────────────┬─────────┬─────────┬───────────────────┬────────────────┐\n",
      "│   period   │ duoarea │ area_name │ product │ product_name │ process │ process_name  │  series  │                 series_description                 │  value  │  units  │   _dlt_load_id    │    _dlt_id     │\n",
      "│  varchar   │ varchar │  varchar  │ varchar │   varchar    │ varchar │    varchar    │ varchar  │                      varchar                       │ varchar │ varchar │      varchar      │    varchar     │\n",
      "├────────────┼─────────┼───────────┼─────────┼──────────────┼─────────┼───────────────┼──────────┼────────────────────────────────────────────────────┼─────────┼─────────┼───────────────────┼────────────────┤\n",
      "│ 2000-01-07 │ NUS     │ U.S.      │ EPC0    │ Crude Oil    │ SAE     │ Ending Stocks │ WCRSTUS1 │ U.S. Ending Stocks of Crude Oil (Thousand Barrels) │ 844791  │ MBBL    │ 1727723665.056007 │ aCmIrpOmPuImuA │\n",
      "│ 2000-01-28 │ NUS     │ U.S.      │ EPC0    │ Crude Oil    │ SAE     │ Ending Stocks │ WCRSTUS1 │ U.S. Ending Stocks of Crude Oil (Thousand Barrels) │ 835028  │ MBBL    │ 1727723665.056007 │ mS/4LUx9ar9Hig │\n",
      "│ 2000-02-25 │ NUS     │ U.S.      │ EPC0    │ Crude Oil    │ SAE     │ Ending Stocks │ WCRSTUS1 │ U.S. Ending Stocks of Crude Oil (Thousand Barrels) │ 838911  │ MBBL    │ 1727723665.056007 │ fPwtAAMlXoHabw │\n",
      "│ 2000-05-19 │ NUS     │ U.S.      │ EPC0    │ Crude Oil    │ SAE     │ Ending Stocks │ WCRSTUS1 │ U.S. Ending Stocks of Crude Oil (Thousand Barrels) │ 863219  │ MBBL    │ 1727723665.056007 │ BZiK+ZVOV8wxQw │\n",
      "│ 2000-07-21 │ NUS     │ U.S.      │ EPC0    │ Crude Oil    │ SAE     │ Ending Stocks │ WCRSTUS1 │ U.S. Ending Stocks of Crude Oil (Thousand Barrels) │ 848042  │ MBBL    │ 1727723665.056007 │ TJgZIJRAU/oWcw │\n",
      "│ 2000-07-28 │ NUS     │ U.S.      │ EPC0    │ Crude Oil    │ SAE     │ Ending Stocks │ WCRSTUS1 │ U.S. Ending Stocks of Crude Oil (Thousand Barrels) │ 837588  │ MBBL    │ 1727723665.056007 │ z9F6nzDk4I72Rg │\n",
      "│ 2001-07-06 │ NUS     │ U.S.      │ EPC0    │ Crude Oil    │ SAE     │ Ending Stocks │ WCRSTUS1 │ U.S. Ending Stocks of Crude Oil (Thousand Barrels) │ 834845  │ MBBL    │ 1727723665.056007 │ cXlX1pHI3X3TuQ │\n",
      "│ 2002-01-18 │ NUS     │ U.S.      │ EPC0    │ Crude Oil    │ SAE     │ Ending Stocks │ WCRSTUS1 │ U.S. Ending Stocks of Crude Oil (Thousand Barrels) │ 850640  │ MBBL    │ 1727723665.056007 │ 7kxUffH6mQvf5w │\n",
      "│ 2002-04-12 │ NUS     │ U.S.      │ EPC0    │ Crude Oil    │ SAE     │ Ending Stocks │ WCRSTUS1 │ U.S. Ending Stocks of Crude Oil (Thousand Barrels) │ 865998  │ MBBL    │ 1727723665.056007 │ LxbLxDpjFUChcg │\n",
      "│ 2002-05-31 │ NUS     │ U.S.      │ EPC0    │ Crude Oil    │ SAE     │ Ending Stocks │ WCRSTUS1 │ U.S. Ending Stocks of Crude Oil (Thousand Barrels) │ 879039  │ MBBL    │ 1727723665.056007 │ hABBPRBdtTUJpg │\n",
      "│     ·      │  ·      │  ·        │  ·      │     ·        │  ·      │       ·       │    ·     │                         ·                          │   ·     │  ·      │         ·         │       ·        │\n",
      "│     ·      │  ·      │  ·        │  ·      │     ·        │  ·      │       ·       │    ·     │                         ·                          │   ·     │  ·      │         ·         │       ·        │\n",
      "│     ·      │  ·      │  ·        │  ·      │     ·        │  ·      │       ·       │    ·     │                         ·                          │   ·     │  ·      │         ·         │       ·        │\n",
      "│ 2023-10-06 │ NUS     │ U.S.      │ EPC0    │ Crude Oil    │ SAE     │ Ending Stocks │ WCRSTUS1 │ U.S. Ending Stocks of Crude Oil (Thousand Barrels) │ 775513  │ MBBL    │ 1727723665.056007 │ zmU82dcP7mVSbw │\n",
      "│ 2023-12-22 │ NUS     │ U.S.      │ EPC0    │ Crude Oil    │ SAE     │ Ending Stocks │ WCRSTUS1 │ U.S. Ending Stocks of Crude Oil (Thousand Barrels) │ 789901  │ MBBL    │ 1727723665.056007 │ YblHu/1O+JSzbA │\n",
      "│ 2024-02-09 │ NUS     │ U.S.      │ EPC0    │ Crude Oil    │ SAE     │ Ending Stocks │ WCRSTUS1 │ U.S. Ending Stocks of Crude Oil (Thousand Barrels) │ 798213  │ MBBL    │ 1727723665.056007 │ PeGBPeloxzF+ag │\n",
      "│ 2024-03-22 │ NUS     │ U.S.      │ EPC0    │ Crude Oil    │ SAE     │ Ending Stocks │ WCRSTUS1 │ U.S. Ending Stocks of Crude Oil (Thousand Barrels) │ 811257  │ MBBL    │ 1727723665.056007 │ ps2nH7WU4WyLHQ │\n",
      "│ 2024-04-05 │ NUS     │ U.S.      │ EPC0    │ Crude Oil    │ SAE     │ Ending Stocks │ WCRSTUS1 │ U.S. Ending Stocks of Crude Oil (Thousand Barrels) │ 821494  │ MBBL    │ 1727723665.056007 │ oAHJdB777L3djA │\n",
      "│ 2024-05-17 │ NUS     │ U.S.      │ EPC0    │ Crude Oil    │ SAE     │ Ending Stocks │ WCRSTUS1 │ U.S. Ending Stocks of Crude Oil (Thousand Barrels) │ 827649  │ MBBL    │ 1727723665.056007 │ mMeW66zousVtYg │\n",
      "│ 2024-07-05 │ NUS     │ U.S.      │ EPC0    │ Crude Oil    │ SAE     │ Ending Stocks │ WCRSTUS1 │ U.S. Ending Stocks of Crude Oil (Thousand Barrels) │ 818168  │ MBBL    │ 1727723665.056007 │ T5Xi7C7DtKrvOA │\n",
      "│ 2024-07-12 │ NUS     │ U.S.      │ EPC0    │ Crude Oil    │ SAE     │ Ending Stocks │ WCRSTUS1 │ U.S. Ending Stocks of Crude Oil (Thousand Barrels) │ 813948  │ MBBL    │ 1727723665.056007 │ hzGdQ6KPsJ2XeA │\n",
      "│ 2024-08-30 │ NUS     │ U.S.      │ EPC0    │ Crude Oil    │ SAE     │ Ending Stocks │ WCRSTUS1 │ U.S. Ending Stocks of Crude Oil (Thousand Barrels) │ 797982  │ MBBL    │ 1727723665.056007 │ Ora0JwWUpcKqGQ │\n",
      "│ 2024-09-13 │ NUS     │ U.S.      │ EPC0    │ Crude Oil    │ SAE     │ Ending Stocks │ WCRSTUS1 │ U.S. Ending Stocks of Crude Oil (Thousand Barrels) │ 798119  │ MBBL    │ 1727723665.056007 │ 8g2Lo3i0bENdjw │\n",
      "├────────────┴─────────┴───────────┴─────────┴──────────────┴─────────┴───────────────┴──────────┴────────────────────────────────────────────────────┴─────────┴─────────┴───────────────────┴────────────────┤\n",
      "│ 1290 rows (20 shown)                                                                                                                                                                              13 columns │\n",
      "└──────────────────────────────────────────────────────────────────────────────────────────────────────────────────────────────────────────────────────────────────────────────────────────────────────────────┘\n",
      "\n"
     ]
    }
   ],
   "source": [
    "conn.query('select * from eia.stocks').show()"
   ]
  },
  {
   "cell_type": "code",
   "execution_count": 8,
   "metadata": {},
   "outputs": [
    {
     "name": "stdout",
     "output_type": "stream",
     "text": [
      "┌─────────┐\n",
      "│  units  │\n",
      "│ varchar │\n",
      "├─────────┤\n",
      "│ MBBL    │\n",
      "│ MBBL/D  │\n",
      "└─────────┘\n",
      "\n"
     ]
    }
   ],
   "source": [
    "conn.query('select distinct units from eia.production').show()"
   ]
  },
  {
   "cell_type": "code",
   "execution_count": null,
   "metadata": {},
   "outputs": [],
   "source": []
  }
 ],
 "metadata": {
  "kernelspec": {
   "display_name": ".venv",
   "language": "python",
   "name": "python3"
  },
  "language_info": {
   "codemirror_mode": {
    "name": "ipython",
    "version": 3
   },
   "file_extension": ".py",
   "mimetype": "text/x-python",
   "name": "python",
   "nbconvert_exporter": "python",
   "pygments_lexer": "ipython3",
   "version": "3.12.4"
  }
 },
 "nbformat": 4,
 "nbformat_minor": 2
}
